{
 "cells": [
  {
   "cell_type": "code",
   "execution_count": 4,
   "id": "721868f5",
   "metadata": {},
   "outputs": [
    {
     "name": "stdout",
     "output_type": "stream",
     "text": [
      "Welcome to the band name Generator\n",
      "your Band Name could be Nisan  humchi\n"
     ]
    }
   ],
   "source": [
    "print(\"Welcome to the band name Generator\")\n",
    "\n",
    "city = input(\"What's the city you grew up in\\n\")\n",
    "pet_name = input(\"what's the name of the pet you have\\n\")\n",
    "\n",
    "print(\"your Band Name could be \"+ city+\" \"+pet_name)"
   ]
  }
 ],
 "metadata": {
  "kernelspec": {
   "display_name": "work",
   "language": "python",
   "name": "python3"
  },
  "language_info": {
   "codemirror_mode": {
    "name": "ipython",
    "version": 3
   },
   "file_extension": ".py",
   "mimetype": "text/x-python",
   "name": "python",
   "nbconvert_exporter": "python",
   "pygments_lexer": "ipython3",
   "version": "3.11.4"
  }
 },
 "nbformat": 4,
 "nbformat_minor": 5
}
