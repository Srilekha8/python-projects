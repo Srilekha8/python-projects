{
 "cells": [
  {
   "cell_type": "code",
   "execution_count": null,
   "id": "0f3e2a12",
   "metadata": {},
   "outputs": [],
   "source": [
    "var = 20 "
   ]
  }
 ],
 "metadata": {
  "kernelspec": {
   "display_name": "work",
   "language": "python",
   "name": "python3"
  },
  "language_info": {
   "name": "python",
   "version": "3.11.4"
  }
 },
 "nbformat": 4,
 "nbformat_minor": 5
}
