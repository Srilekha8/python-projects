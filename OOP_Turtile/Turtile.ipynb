{
 "cells": [
  {
   "cell_type": "code",
   "execution_count": 1,
   "id": "2f470486",
   "metadata": {},
   "outputs": [],
   "source": [
    "# from turtle import Turtle,Screen\n",
    "# import prettytable\n",
    "# import main\n",
    "\n",
    "# timmy = Turtle()\n",
    "# timmy.shape(\"turtle\")\n",
    "# timmy.color(\"green\")\n",
    "# timmy.forward(100)\n",
    "\n",
    "# my_screen = Screen()\n",
    "# my_screen.canvheight\n",
    "# my_screen.exitonclick()\n",
    "\n",
    "name = \"Srilekha\""
   ]
  },
  {
   "cell_type": "markdown",
   "id": "955605aa",
   "metadata": {},
   "source": [
    "New code"
   ]
  },
  {
   "cell_type": "code",
   "execution_count": 2,
   "id": "a8166fb4",
   "metadata": {},
   "outputs": [
    {
     "name": "stdout",
     "output_type": "stream",
     "text": [
      "Srilekha\n"
     ]
    }
   ],
   "source": [
    "print(name)"
   ]
  }
 ],
 "metadata": {
  "kernelspec": {
   "display_name": "work",
   "language": "python",
   "name": "python3"
  },
  "language_info": {
   "codemirror_mode": {
    "name": "ipython",
    "version": 3
   },
   "file_extension": ".py",
   "mimetype": "text/x-python",
   "name": "python",
   "nbconvert_exporter": "python",
   "pygments_lexer": "ipython3",
   "version": "3.11.4"
  }
 },
 "nbformat": 4,
 "nbformat_minor": 5
}
