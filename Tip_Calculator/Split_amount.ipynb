{
 "cells": [
  {
   "cell_type": "code",
   "execution_count": 2,
   "id": "9f386bb7",
   "metadata": {},
   "outputs": [
    {
     "name": "stdout",
     "output_type": "stream",
     "text": [
      "Welcome to the tip calculator\n",
      "Each person's share would be 33.6\n"
     ]
    }
   ],
   "source": [
    "print(\"Welcome to the tip calculator\")\n",
    "\n",
    "bill = float(input(\"what was the total bill? $ \"))\n",
    "tip = int(input(\"how much tip would you like to give? 10,15, 20 ? \"))\n",
    "people = int(input(\"how many people to split the bill? \"))\n",
    "\n",
    "total_bill = bill + (bill*tip/100)\n",
    "\n",
    "share = round(total_bill/people, 2)\n",
    "\n",
    "print(f\"Each person's share would be {share}\")"
   ]
  },
  {
   "cell_type": "code",
   "execution_count": 10,
   "id": "fc704038",
   "metadata": {},
   "outputs": [
    {
     "name": "stdout",
     "output_type": "stream",
     "text": [
      "total bill is 26\n"
     ]
    }
   ],
   "source": [
    "#small, medium, large = 15, 20,25\n",
    "#small_pepp = +2, M or L plus pepp = +3\n",
    "#extra cheese(any pizza) =+1\n",
    "\n",
    "\n",
    "pizza_cat = input(\"what size of pizza u want \")\n",
    "pepp = input(\"do you want pepperonie on your pizza \")\n",
    "cheese = input(\"do you like extra cheese\")\n",
    "samnt= 15\n",
    "medamnt= 20\n",
    "lamount= 25\n",
    "bill = 0\n",
    "\n",
    "if(pizza_cat=='S'):\n",
    "    bill = samnt\n",
    "    if(pepp=='Y'):\n",
    "        bill+=2\n",
    "elif(pizza_cat=='M'):\n",
    "    bill = medamnt\n",
    "    if(pepp=='Y'):\n",
    "        bill+=3\n",
    "elif(pizza_cat=='L'):\n",
    "    bill=lamount\n",
    "    if(pepp=='Y'):\n",
    "        bill+=3\n",
    "\n",
    "if(cheese=='Y'):\n",
    "    bill+=1\n",
    "    print(f\"total bill is {bill}\")\n",
    "else:\n",
    "    print(f\"total bill is {bill}\")\n",
    "    "
   ]
  }
 ],
 "metadata": {
  "kernelspec": {
   "display_name": "work",
   "language": "python",
   "name": "python3"
  },
  "language_info": {
   "codemirror_mode": {
    "name": "ipython",
    "version": 3
   },
   "file_extension": ".py",
   "mimetype": "text/x-python",
   "name": "python",
   "nbconvert_exporter": "python",
   "pygments_lexer": "ipython3",
   "version": "3.11.4"
  }
 },
 "nbformat": 4,
 "nbformat_minor": 5
}
