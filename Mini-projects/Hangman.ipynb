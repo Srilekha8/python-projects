{
 "cells": [
  {
   "cell_type": "markdown",
   "id": "333c1fa1",
   "metadata": {},
   "source": [
    "# Hangman Game"
   ]
  },
  {
   "cell_type": "code",
   "execution_count": null,
   "id": "6e1ef40d",
   "metadata": {},
   "outputs": [],
   "source": [
    "import random\n",
    "\n",
    "word = \"table\"\n",
    "\n",
    "wd_lst = list(word)\n",
    "live_chance = 7\n",
    "correct_guesses = 0\n",
    "\n",
    "\n",
    "while (live_chance!=0 or correct_guesses != len(wd_lst)):\n",
    "    print(\"entering the while loop\")\n",
    "    guess = input(\"select your letter\").lower()\n",
    "    if(guess in wd_lst):\n",
    "        print(f\"yes the {guess} is present in the word\")\n",
    "        correct_guesses+=1\n",
    "    else:\n",
    "        live_chance-=1\n",
    "        print(f\"Nope! your man is {live_chance} steps away from danger\")\n",
    "\n",
    "if(live_chance==0):\n",
    "    print(\"Your man is deaddddd\")\n",
    "else:\n",
    "    print(\"You Wonnn!\")"
   ]
  },
  {
   "cell_type": "code",
   "execution_count": 18,
   "id": "69c513a9",
   "metadata": {},
   "outputs": [
    {
     "name": "stdout",
     "output_type": "stream",
     "text": [
      "cammel\n",
      "------\n",
      "you have 6 left\n",
      "------\n",
      "you have 5 left\n",
      "-----l\n",
      "you have 5 left\n",
      "c----l\n",
      "you have 5 left\n",
      "c-mm-l\n",
      "you have 5 left\n",
      "camm-l\n",
      "you have 5 left\n",
      "cammel\n",
      "you Won!!\n"
     ]
    }
   ],
   "source": [
    "import random\n",
    "words = ['cammel','elephanet','parrot']\n",
    "target = random.choice(words)\n",
    "lives = 6\n",
    "print(target)\n",
    "placeholder=''\n",
    "for i in target:\n",
    "    placeholder+='-'\n",
    "print(placeholder)\n",
    "ph_lst = list(placeholder)\n",
    "while ('-' in ph_lst and lives!=0 ):\n",
    "    print(f\"you have {lives} left\")\n",
    "    guess = input(\"Guess your letter\")\n",
    "    for ind in range(len(target)):\n",
    "        if target[ind] == guess:\n",
    "            ph_lst[ind]=guess\n",
    "    if guess not in target:\n",
    "        lives-=1    \n",
    "    print(''.join(ph_lst))\n",
    "\n",
    "if(lives==0) :\n",
    "    print(f\"The word was {target}. you loose\")\n",
    "else:\n",
    "    print(\"you Won!!\")       \n"
   ]
  }
 ],
 "metadata": {
  "kernelspec": {
   "display_name": "work",
   "language": "python",
   "name": "python3"
  },
  "language_info": {
   "codemirror_mode": {
    "name": "ipython",
    "version": 3
   },
   "file_extension": ".py",
   "mimetype": "text/x-python",
   "name": "python",
   "nbconvert_exporter": "python",
   "pygments_lexer": "ipython3",
   "version": "3.11.4"
  }
 },
 "nbformat": 4,
 "nbformat_minor": 5
}
