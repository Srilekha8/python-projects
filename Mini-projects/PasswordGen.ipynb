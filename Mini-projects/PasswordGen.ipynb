{
 "cells": [
  {
   "cell_type": "markdown",
   "id": "d9210dc8",
   "metadata": {},
   "source": [
    "# Password Generator"
   ]
  },
  {
   "cell_type": "code",
   "execution_count": 1,
   "id": "2e0e7802",
   "metadata": {},
   "outputs": [
    {
     "name": "stdout",
     "output_type": "stream",
     "text": [
      "gS2lsjz!%2Ow\n"
     ]
    }
   ],
   "source": [
    "import random\n",
    "\n",
    "pwd_length = int(input(\"what is length of the password\"))\n",
    "upcase = int(input(\"How many upper case letter you would like in the password\"))\n",
    "nums = int(input(\"How many numbers you want in the password\"))\n",
    "sp_chars = int(input(\"How many speacial characters you want in the password\"))\n",
    "\n",
    "lcase = pwd_length -(upcase+nums+sp_chars)\n",
    "\n",
    "lower_alpha = ['a','b','c','d','e','f','g','h','i','j','k','l','m','n','o','p','q','r','s','t','u','v','w','x','y','z']\n",
    "upper_alpha = ['A','B','C','D','E','F','G','H','I','J','K','L','M','N','O','P','Q','R','S','T','U','V','W','X','Y','Z']\n",
    "numbers = ['0','1','2','3','4','5','6','7','8','9']\n",
    "special_char = ['!','@','?','$','#','&','*','%','^']\n",
    "\n",
    "\n",
    "pwd =''\n",
    "\n",
    "for i in range(0,lcase):\n",
    "    #ind_1 = random.randint(0,25)# number 0 and 25 both included\n",
    "    pwd+=random.choice(lower_alpha)\n",
    "\n",
    "for j in range(0,upcase):\n",
    "    pwd+=random.choice(upper_alpha)\n",
    "\n",
    "for k in range(0,nums):\n",
    "    pwd+=random.choice(numbers)\n",
    "\n",
    "for l in range(0,sp_chars):\n",
    "    pwd+=random.choice(special_char)\n",
    "\n",
    "x= list(pwd)\n",
    "random.shuffle(x)\n",
    "print(''.join(x))"
   ]
  },
  {
   "cell_type": "code",
   "execution_count": null,
   "id": "3b90cedc",
   "metadata": {},
   "outputs": [],
   "source": [
    "gS2lsjz!%2Ow"
   ]
  }
 ],
 "metadata": {
  "kernelspec": {
   "display_name": "work",
   "language": "python",
   "name": "python3"
  },
  "language_info": {
   "codemirror_mode": {
    "name": "ipython",
    "version": 3
   },
   "file_extension": ".py",
   "mimetype": "text/x-python",
   "name": "python",
   "nbconvert_exporter": "python",
   "pygments_lexer": "ipython3",
   "version": "3.11.4"
  }
 },
 "nbformat": 4,
 "nbformat_minor": 5
}
