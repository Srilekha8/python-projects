{
 "cells": [
  {
   "cell_type": "markdown",
   "id": "4a964317",
   "metadata": {},
   "source": [
    "Cards Game"
   ]
  },
  {
   "cell_type": "code",
   "execution_count": null,
   "id": "ba594f57",
   "metadata": {},
   "outputs": [
    {
     "name": "stdout",
     "output_type": "stream",
     "text": [
      "your cards [10, 10] , current score 20\n",
      "computer's first card is 9\n",
      "You loose, your final cards [10, 10, 11], current score 31\n",
      "computers' score 9\n",
      "Okay, Feel free to come back to play!\n"
     ]
    }
   ],
   "source": [
    "import random\n",
    "\n",
    "cards = [11,2,3,4,5,6,7,8,9,10,10,10,10]\n",
    "\n",
    "user_cards =[]\n",
    "\n",
    "comp_cards = []\n",
    "\n",
    "game_on = True\n",
    "\n",
    "stop = True\n",
    "\n",
    "play = input(\"Do you want to play a game of BlackJack ? Types Y or N\")\n",
    "\n",
    "def play_the_game():\n",
    "    user = False\n",
    "    user_cards.append(random.choice(cards))\n",
    "    user_cards.append(random.choice(cards))\n",
    "    comp_cards.append(random.choice(cards))\n",
    "    comp_cards.append(random.choice(cards))\n",
    "    print(f\"your cards {user_cards} , current score {sum(user_cards)}\")\n",
    "    print(f\"computer's first card is {comp_cards[0]}\")\n",
    "    if sum(user_cards) ==21:\n",
    "        print(\"You won\")\n",
    "    else:\n",
    "        while(game_on):\n",
    "            hit_or_stand = input(\"Do you want to select your next card or pass...THype Y or N\")\n",
    "            if(hit_or_stand=='Y'):\n",
    "                user_cards.append(random.choice(cards))\n",
    "                if (sum(user_cards)>21 and sum(user_cards)>sum(comp_cards)):\n",
    "                    print(f\"You loose, your final cards {user_cards}, current score {sum(user_cards)}\")\n",
    "                    print(f\"computers' score {comp_cards[0]}\")\n",
    "                    return user\n",
    "                else:\n",
    "                    print(f\"your cards {user_cards}, current score {sum(user_cards)}\")\n",
    "                    print(f\"computer's first card is {comp_cards[0]}\")\n",
    "\n",
    "            else:\n",
    "                comp_cards.append(random.choice(cards))\n",
    "                if(sum(comp_cards)> sum(user_cards) and sum(comp_cards)<=21):\n",
    "                    print(f\"You loose :( your final hand {user_cards} , final score {sum(user_cards)}\")\n",
    "                    print(f\"Computer's final hand {comp_cards} , final score {sum(comp_cards)}\")\n",
    "                    user = True\n",
    "                return user\n",
    "\n",
    "\n",
    "while (stop):\n",
    "    if(play == 'N'):\n",
    "        print(\"Okay, Feel free to come back to play!\")\n",
    "        stop = False\n",
    "    else :\n",
    "        win_los = play_the_game()\n",
    "        if(win_los != 'null'):\n",
    "            cont = input(\"Do you want to play a game of BlackJack ? Types Y or N\")\n",
    "            if(cont == 'N'):\n",
    "                print(\"Okay, Feel free to come back to play!\")\n",
    "                stop = False\n",
    "            else:\n",
    "                play_the_game()\n",
    "\n",
    "    \n",
    "\n",
    "\n",
    "\n"
   ]
  }
 ],
 "metadata": {
  "kernelspec": {
   "display_name": "work",
   "language": "python",
   "name": "python3"
  },
  "language_info": {
   "codemirror_mode": {
    "name": "ipython",
    "version": 3
   },
   "file_extension": ".py",
   "mimetype": "text/x-python",
   "name": "python",
   "nbconvert_exporter": "python",
   "pygments_lexer": "ipython3",
   "version": "3.11.4"
  }
 },
 "nbformat": 4,
 "nbformat_minor": 5
}
