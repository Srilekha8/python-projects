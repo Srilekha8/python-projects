{
 "cells": [
  {
   "cell_type": "code",
   "execution_count": null,
   "id": "7af49e08",
   "metadata": {},
   "outputs": [
    {
     "name": "stdout",
     "output_type": "stream",
     "text": [
      "Srilekha Perugu\n"
     ]
    }
   ],
   "source": [
    "name = \"sRiLekha PEruGu\"\n",
    "\n",
    "print(name.title()) # to convert string into Title case"
   ]
  },
  {
   "cell_type": "code",
   "execution_count": 1,
   "id": "a9781cec",
   "metadata": {},
   "outputs": [
    {
     "name": "stdout",
     "output_type": "stream",
     "text": [
      "4 / 2 = 2.0\n",
      "2.0 * 2 = 4.0\n",
      "4.0 * 7 = 28.0\n",
      "28.0 / 7 = 4.0\n"
     ]
    }
   ],
   "source": [
    "in_use_calci = True\n",
    "def add(n1, n2):\n",
    "    return n1+n2\n",
    "\n",
    "def substract(n1,n2):\n",
    "    return n1-n2\n",
    "\n",
    "def multiply(n1,n2):\n",
    "    return n1*n2\n",
    "\n",
    "def div(n1,n2):\n",
    "    return n1/n2\n",
    "\n",
    "func = {\"+\":add, \"-\":substract, \"*\":multiply, \"/\":div}\n",
    "\n",
    "opt = 0\n",
    "inp1 = int(input(\"what's the first Number\"))\n",
    "while (in_use_calci):\n",
    "    ops = input(\"Select the Operation you want to perform\")\n",
    "    inp2 = int(input(\"What's your next number\"))\n",
    "\n",
    "    opt = func[ops](inp1, inp2)\n",
    "    print(f\"{inp1} {ops} {inp2} = {opt}\")\n",
    "    decn = input(\"Type 'Y' to continue calculating with {opt} or type 'N'\").lower()\n",
    "\n",
    "    if(decn =='n'):\n",
    "        opt = 0\n",
    "        inp1 = input(\"what's your first number\")\n",
    "    elif(decn =='esc'):\n",
    "         in_use_calci = False\n",
    "    else :\n",
    "        inp1 = opt\n",
    "    \n",
    "\n",
    "\n"
   ]
  }
 ],
 "metadata": {
  "kernelspec": {
   "display_name": "work",
   "language": "python",
   "name": "python3"
  },
  "language_info": {
   "codemirror_mode": {
    "name": "ipython",
    "version": 3
   },
   "file_extension": ".py",
   "mimetype": "text/x-python",
   "name": "python",
   "nbconvert_exporter": "python",
   "pygments_lexer": "ipython3",
   "version": "3.11.4"
  }
 },
 "nbformat": 4,
 "nbformat_minor": 5
}
