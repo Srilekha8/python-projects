{
 "cells": [
  {
   "cell_type": "code",
   "execution_count": 6,
   "id": "4f3be033",
   "metadata": {},
   "outputs": [
    {
     "name": "stdout",
     "output_type": "stream",
     "text": [
      "Welcome to Number guessing game\n",
      "I'm thinking of a number between 1 and 100\n",
      "the number I thought is 48\n",
      "You have 5 remaining to guess the number\n",
      "46\n",
      "Too Low\n",
      "You have 4 remaining to guess the number\n",
      "90\n",
      "Too high\n",
      "You have 3 remaining to guess the number\n",
      "56\n",
      "Too high\n",
      "You have 2 remaining to guess the number\n",
      "34\n",
      "Too Low\n",
      "You have 1 remaining to guess the number\n",
      "78\n",
      "Too high\n",
      "You ran out of attempts. you loose\n"
     ]
    }
   ],
   "source": [
    "import random\n",
    "game_on = True\n",
    "EASY_LEVEL_TURNS = 10\n",
    "HARD_LEVE_TURNS = 5\n",
    "\n",
    "def diff(level):\n",
    "    if(level == 'easy'):\n",
    "        turns = EASY_LEVEL_TURNS\n",
    "        return turns\n",
    "    else:\n",
    "        turns = HARD_LEVE_TURNS\n",
    "        return turns \n",
    "\n",
    "def play_game(level, number):\n",
    "    win_loose = False\n",
    "    attempts = diff(level)\n",
    "    while not win_loose:\n",
    "        if attempts==0:\n",
    "            print(\"You ran out of attempts. you loose\")\n",
    "            win_loose = True\n",
    "            return win_loose\n",
    "        else :\n",
    "            print(f\"You have {attempts} remaining to guess the number\")\n",
    "            guess = int(input(\"Make a guess\"))\n",
    "            print(guess)\n",
    "        if(guess == number):\n",
    "            print(f\"You got it!! The number was {number}\")\n",
    "            win_loose = True\n",
    "            return win_loose\n",
    "        elif(guess>number):\n",
    "            print(\"Too high\")\n",
    "            attempts-=1\n",
    "        elif guess<number:\n",
    "            print(\"Too Low\")\n",
    "            attempts-=1\n",
    "\n",
    "\n",
    "\n",
    "print(\"Welcome to Number guessing game\")\n",
    "print(\"I'm thinking of a number between 1 and 100\")\n",
    "\n",
    "num = random.randint(1,100)\n",
    "\n",
    "print(f\"the number I thought is {num}\")\n",
    "\n",
    "level = input(\"choose a dificulty. Type easy or hard\").lower()\n",
    "\n",
    "cont = play_game(level, num)\n",
    "\n"
   ]
  }
 ],
 "metadata": {
  "kernelspec": {
   "display_name": "work",
   "language": "python",
   "name": "python3"
  },
  "language_info": {
   "codemirror_mode": {
    "name": "ipython",
    "version": 3
   },
   "file_extension": ".py",
   "mimetype": "text/x-python",
   "name": "python",
   "nbconvert_exporter": "python",
   "pygments_lexer": "ipython3",
   "version": "3.11.4"
  }
 },
 "nbformat": 4,
 "nbformat_minor": 5
}
