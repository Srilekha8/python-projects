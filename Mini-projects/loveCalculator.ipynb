{
 "cells": [
  {
   "cell_type": "code",
   "execution_count": null,
   "id": "9a0ce073",
   "metadata": {},
   "outputs": [
    {
     "name": "stdout",
     "output_type": "stream",
     "text": [
      "42\n"
     ]
    }
   ],
   "source": [
    "def calculate_love_score(name1,name2):\n",
    "\n",
    "    n1=name1.lower()\n",
    "    n2=name2.lower()\n",
    "    \n",
    "    name_lst = [n1,n2]\n",
    "    true_count=0\n",
    "    love_count=0\n",
    "    love_score = ''\n",
    "    \n",
    "    for name in name_lst:\n",
    "        for i in \"true\":\n",
    "            for j in range(len(name)):\n",
    "                if i== name[j]:\n",
    "                    true_count+=1\n",
    "                \n",
    "    #print(true_count)\n",
    "    love_score+=str(true_count)\n",
    "    \n",
    "    for name in name_lst:\n",
    "        for k in \"love\":\n",
    "            for l in range(len(name)):\n",
    "                if k== name[l]:\n",
    "                    love_count+=1\n",
    "                    \n",
    "    #print(love_count)\n",
    "    love_score+=str(love_count)\n",
    "    print(love_score)\n",
    "    \n",
    "calculate_love_score(\"kanye West\", \"Kim Kardashian\")\n",
    "    "
   ]
  }
 ],
 "metadata": {
  "kernelspec": {
   "display_name": "work",
   "language": "python",
   "name": "python3"
  },
  "language_info": {
   "codemirror_mode": {
    "name": "ipython",
    "version": 3
   },
   "file_extension": ".py",
   "mimetype": "text/x-python",
   "name": "python",
   "nbconvert_exporter": "python",
   "pygments_lexer": "ipython3",
   "version": "3.11.4"
  }
 },
 "nbformat": 4,
 "nbformat_minor": 5
}
