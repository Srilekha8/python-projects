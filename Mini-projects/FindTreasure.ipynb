{
 "cells": [
  {
   "cell_type": "code",
   "execution_count": null,
   "id": "7e27ad35",
   "metadata": {},
   "outputs": [
    {
     "name": "stdout",
     "output_type": "stream",
     "text": [
      "0.9018119809443746\n",
      "1\n",
      "0.657461784061951\n",
      "tails\n"
     ]
    }
   ],
   "source": [
    "import random\n",
    "\n",
    "a = random.random()*10 #print random number  >0.0 and <1.0\n",
    "b = random.randint(0,10) # print random number from 1 - 10\n",
    "c = random.uniform(0,1) # print float numbers\n",
    "\n",
    "print(a)\n",
    "print(b)\n",
    "print(c)\n",
    "\n",
    "\n",
    "if b==0:\n",
    "    print(\"heads\")\n",
    "else:\n",
    "    print(\"tails\")"
   ]
  },
  {
   "cell_type": "code",
   "execution_count": 20,
   "id": "1fae0bb4",
   "metadata": {},
   "outputs": [
    {
     "name": "stdout",
     "output_type": "stream",
     "text": [
      "manasa is going to pay the bill\n",
      "fayaz\n"
     ]
    }
   ],
   "source": [
    "import random\n",
    "\n",
    "friends = [\"fayaz\",\"manasa\",\"surekha\", \"ramya\",\"akshi\"]\n",
    "num = random.randint(0,4)\n",
    "payer = friends[num]\n",
    "print(f\"{payer} is going to pay the bill\")\n",
    "\n",
    "#2nd way\n",
    "\n",
    "print(random.choice(friends))"
   ]
  },
  {
   "cell_type": "markdown",
   "id": "75d38424",
   "metadata": {},
   "source": [
    "## Rock Paper & scissor\n"
   ]
  },
  {
   "cell_type": "code",
   "execution_count": 14,
   "id": "a71dd5a4",
   "metadata": {},
   "outputs": [
    {
     "name": "stdout",
     "output_type": "stream",
     "text": [
      "Computer's choice  - paper\n",
      "your choice - paper\n",
      "Game draw\n"
     ]
    }
   ],
   "source": [
    "import random\n",
    "\n",
    "computer_choice = [\"rock\", \"paper\",\"scissor\"]\n",
    "user_choice = int(input(\"select 0 for Rock, 1 for paper and 2 for scissor\"))\n",
    "\n",
    "comp_sel = random.choice(computer_choice)\n",
    "print(f\"Computer's choice  - {comp_sel}\")\n",
    "print(f\"your choice - {computer_choice[user_choice]}\")\n",
    "\n",
    "\n",
    "def rock_paper(user_choice, comp_sel): \n",
    "    if computer_choice[user_choice] == comp_sel:\n",
    "        print(\"Game draw\")\n",
    "        return\n",
    "    match comp_sel:\n",
    "        case \"rock\":\n",
    "            if computer_choice[user_choice] == 'paper':\n",
    "                print(\"you Won!\")\n",
    "            else : \n",
    "                print(\"Computer Won\")\n",
    "        case \"paper\":\n",
    "            if(computer_choice[user_choice] != \"scissor\"):\n",
    "                print(\"Computer won\")\n",
    "            else:\n",
    "                print(\"You Won!\")\n",
    "        case \"scissor\":\n",
    "            if (computer_choice[user_choice] == \"rock\"):\n",
    "                print(\"You Won!\")\n",
    "            else :\n",
    "                print(\"Computer Won\")\n",
    "    return\n",
    "\n",
    "rock_paper(user_choice, comp_sel)\n",
    "\n"
   ]
  }
 ],
 "metadata": {
  "kernelspec": {
   "display_name": "work",
   "language": "python",
   "name": "python3"
  },
  "language_info": {
   "codemirror_mode": {
    "name": "ipython",
    "version": 3
   },
   "file_extension": ".py",
   "mimetype": "text/x-python",
   "name": "python",
   "nbconvert_exporter": "python",
   "pygments_lexer": "ipython3",
   "version": "3.11.4"
  }
 },
 "nbformat": 4,
 "nbformat_minor": 5
}
