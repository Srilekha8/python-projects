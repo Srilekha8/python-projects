{
 "cells": [
  {
   "cell_type": "code",
   "execution_count": null,
   "id": "31dbc56b",
   "metadata": {},
   "outputs": [
    {
     "name": "stdout",
     "output_type": "stream",
     "text": [
      "Compare A : Taylor swift, US musician \n",
      "Against B : Sunjae, South korean musician \n",
      "user's choice A\n",
      "correct answer A\n",
      "You are right! your current score 1\n",
      "Compare A : Sunjae, South korean musician \n",
      "Against B : asn-Jeon, South korean musician \n",
      "user's choice A\n",
      "correct answer B\n",
      "you guessed it wrong :(\n",
      "Your final score is 1\n"
     ]
    }
   ],
   "source": [
    "import random\n",
    "\n",
    "lost = False\n",
    "\n",
    "celebs = {'VK an Indian cricket player': 250000,\n",
    "          \"Taylor swift, US musician \" : 500000,\n",
    "          \"selena Gomez, US musician \" : 300000,\n",
    "          \"umayo, UK musician \" : 276000,\n",
    "          \"Sunjae, South korean musician \" : 333000,\n",
    "          \"asn-Jeon, South korean musician \" : 700000,\n",
    "          \"Prabhas, an Indian Actor \" : 900000,\n",
    "          \"Anushka, Indian actress \" : 890000\n",
    "        }\n",
    "\n",
    "\n",
    "def play_game(lost):\n",
    "    score = 0\n",
    "    a_key = random.choice(list(celebs.keys()))\n",
    "    b_key = random.choice(list(celebs.keys()))\n",
    "    while not lost:\n",
    "      if(a_key == b_key):\n",
    "          b_key = random.choice(list(celebs.keys()))\n",
    "\n",
    "      print(f\"Compare A : {a_key}\")\n",
    "      print(f\"Against B : {b_key}\")\n",
    "      \n",
    "      choice = input(\"Who has more followers? Type 'A' or 'B'\")\n",
    "      ans =''\n",
    "\n",
    "      if(celebs[a_key]>celebs[b_key]):\n",
    "          ans='A'\n",
    "      else:\n",
    "          ans ='B'\n",
    "      if(choice!=ans):\n",
    "          lost = True\n",
    "          print(\"you guessed it wrong :(\")\n",
    "      else:\n",
    "          score+=1\n",
    "          print(f\"You are right! your current score {score}\")\n",
    "          a_key = b_key\n",
    "          b_key = random.choice(list(celebs.keys()))\n",
    "    \n",
    "    print(f\"Your final score is {score}\")\n",
    "\n",
    "play_game(lost)\n"
   ]
  }
 ],
 "metadata": {
  "kernelspec": {
   "display_name": "work",
   "language": "python",
   "name": "python3"
  },
  "language_info": {
   "codemirror_mode": {
    "name": "ipython",
    "version": 3
   },
   "file_extension": ".py",
   "mimetype": "text/x-python",
   "name": "python",
   "nbconvert_exporter": "python",
   "pygments_lexer": "ipython3",
   "version": "3.11.4"
  }
 },
 "nbformat": 4,
 "nbformat_minor": 5
}
