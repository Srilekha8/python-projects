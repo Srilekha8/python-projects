{
 "cells": [
  {
   "cell_type": "markdown",
   "id": "19417be9",
   "metadata": {},
   "source": [
    "# Encode and Decode"
   ]
  },
  {
   "cell_type": "code",
   "execution_count": null,
   "id": "c5f0af4a",
   "metadata": {},
   "outputs": [
    {
     "name": "stdout",
     "output_type": "stream",
     "text": [
      "Here's the decoded result : srilekha\n"
     ]
    }
   ],
   "source": [
    "alpha = ['a','b','c','d','e','f','g','h','i','j','k','l','m','n','o','p','q','r','s','t','u','v','w','x','y','z']\n",
    "\n",
    "\n",
    "\n",
    "def ceaser_cipher(message, shift, en_or_dc):\n",
    "    output = ''\n",
    "    if en_or_dc == \"decode\":\n",
    "        shift*=-1\n",
    "    for i in message:\n",
    "        if i in alpha:\n",
    "            new_ind = alpha.index(i)+shift\n",
    "            new_ind%=len(alpha)\n",
    "            output+=alpha[new_ind]\n",
    "        else:\n",
    "            output+=i\n",
    "    return output\n",
    "\n",
    "game_on = True\n",
    "\n",
    "while (game_on):\n",
    "    encode_decode = input(\"Type 'encode' to Encryt or 'decode' to Decrypt\").lower()\n",
    "    msg = input(\"Type your message\").lower()\n",
    "    shift = int(input(\"Type the shift number\"))\n",
    "    op = ceaser_cipher(msg, shift, encode_decode)\n",
    "    print(f\"Here's the {encode_decode}d result : {op}\")\n",
    "    go_no_go = input(\"Type 'yes' if you want to go again otherwise 'no'\").lower()\n",
    "    if(go_no_go == 'no'):\n",
    "        game_on=False\n"
   ]
  },
  {
   "cell_type": "markdown",
   "id": "7cfea3dd",
   "metadata": {},
   "source": [
    "get the key with max value in a dictionary"
   ]
  },
  {
   "cell_type": "code",
   "execution_count": 13,
   "id": "a16d80c2",
   "metadata": {},
   "outputs": [
    {
     "name": "stdout",
     "output_type": "stream",
     "text": [
      "katy\n"
     ]
    }
   ],
   "source": [
    "collection = {\"july\":23, \"guon\": 45, \"katy\": 67}\n",
    "print(max(collection, key=collection.get))"
   ]
  }
 ],
 "metadata": {
  "kernelspec": {
   "display_name": "work",
   "language": "python",
   "name": "python3"
  },
  "language_info": {
   "codemirror_mode": {
    "name": "ipython",
    "version": 3
   },
   "file_extension": ".py",
   "mimetype": "text/x-python",
   "name": "python",
   "nbconvert_exporter": "python",
   "pygments_lexer": "ipython3",
   "version": "3.11.4"
  }
 },
 "nbformat": 4,
 "nbformat_minor": 5
}
